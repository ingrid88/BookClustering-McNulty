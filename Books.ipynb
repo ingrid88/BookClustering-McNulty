{
 "cells": [
  {
   "cell_type": "code",
   "execution_count": 1,
   "metadata": {
    "collapsed": true
   },
   "outputs": [],
   "source": [
    "import requests\n",
    "wzdoz = 'http://www.gutenberg.org/cache/epub/43936/pg43936.txt'\n",
    "text = requests.get(wzdoz).text\n",
    "\n",
    "oz = text.split(\"\\r\\n\\r\\n\") # text.split('\\n')\n",
    "\n",
    "chapters = []\n",
    "chapter_titles = []\n",
    "for i,split in enumerate(oz):\n",
    "    if split.find(\"Chapter \") != -1:\n",
    "        chapter_titles.append(split)\n",
    "        chapters.append(i)\n",
    "    if split.find(\"*** END\") != -1:\n",
    "        chapter_titles.append(split)\n",
    "        chapters.append(i)\n",
    "\n",
    "chapter_content = []\n",
    "for i,chapter in enumerate(chapters[0:len(chapters)-1]):\n",
    "    chapter_content.append(oz[chapter:chapters[i+1]])\n",
    "\n",
    "# Combined Chapter Segments (no gutenberg stuff)\n",
    "chapter_segs = [' '.join(chapter) for chapter in chapter_content] \n",
    "# \n",
    "paragraphs = [line for line in chapter_content[0] if len(line) > 50]\n",
    "all_paragraphs = [item for sublist in chapter_content for item in sublist if len(item) > 20]\n",
    "import re\n",
    "sentences = re.split('; |\\.|\\!|\\?', ' '.join(all_paragraphs))"
   ]
  },
  {
   "cell_type": "code",
   "execution_count": 11,
   "metadata": {
    "collapsed": false
   },
   "outputs": [],
   "source": [
    "##  PIPELINE\n",
    "url = 'http://www.gutenberg.org/cache/epub/43936/pg43936.txt'\n",
    "text = load_text(url)\n",
    "chapter_locations = find_chapters(text)\n",
    "chapter_content = chapter_contents(text,chapter_locations)\n",
    "chpt_15 = chapter_paragraph_built(15,chapter_content)\n",
    "paragraphs = all_chapter_paragraphs(chapter_content)"
   ]
  },
  {
   "cell_type": "code",
   "execution_count": 20,
   "metadata": {
    "collapsed": false
   },
   "outputs": [],
   "source": [
    "clauses = clause_split(paragraphs)"
   ]
  },
  {
   "cell_type": "code",
   "execution_count": 22,
   "metadata": {
    "collapsed": true
   },
   "outputs": [],
   "source": [
    "grammar_clauses = grammar_pos(clauses)"
   ]
  },
  {
   "cell_type": "code",
   "execution_count": 41,
   "metadata": {
    "collapsed": true
   },
   "outputs": [],
   "source": [
    "y = [len(clause.split()) for clause in grammar_clauses]\n",
    "x = np.arange(0,len(y))"
   ]
  },
  {
   "cell_type": "code",
   "execution_count": 40,
   "metadata": {
    "collapsed": false
   },
   "outputs": [
    {
     "data": {
      "text/plain": [
       "[u'NOUN',\n",
       " u'VERB',\n",
       " u'ADP',\n",
       " u'DET',\n",
       " u'NOUN',\n",
       " u'ADP',\n",
       " u'DET',\n",
       " u'ADJ',\n",
       " u'NOUN',\n",
       " u'NOUN']"
      ]
     },
     "execution_count": 40,
     "metadata": {},
     "output_type": "execute_result"
    }
   ],
   "source": [
    "grammar_clauses[0].split()"
   ]
  },
  {
   "cell_type": "code",
   "execution_count": 48,
   "metadata": {
    "collapsed": true
   },
   "outputs": [],
   "source": [
    "import pandas as pd\n",
    "gr_df = pd.DataFrame(grammar_clauses)"
   ]
  },
  {
   "cell_type": "code",
   "execution_count": 50,
   "metadata": {
    "collapsed": false
   },
   "outputs": [],
   "source": [
    "gr_df[\"len\"] = gr_df[0].apply(lambda clause: len(clause.split()))\n"
   ]
  },
  {
   "cell_type": "code",
   "execution_count": 60,
   "metadata": {
    "collapsed": false
   },
   "outputs": [],
   "source": [
    "gr_df[\"phrase\"] = clauses"
   ]
  },
  {
   "cell_type": "code",
   "execution_count": null,
   "metadata": {
    "collapsed": true
   },
   "outputs": [],
   "source": [
    "def entity_list(parsed_sentences):\n",
    "    sentence_entities = [list(sentence.ents) for sentence in parsed_sentences]\n",
    "    \n",
    "    ents = list(parsedEx.ents)\n",
    "    [' '.join([word for word in sentence.ents]) for sentence in sentences if sentence.ents]\n",
    "ents = list(parsedEx.ents)\n",
    "for entity in ents:\n",
    "    print(entity.label, entity.label_, ' '.join(t.orth_ for t in entity))"
   ]
  },
  {
   "cell_type": "code",
   "execution_count": 55,
   "metadata": {
    "collapsed": false
   },
   "outputs": [
    {
     "data": {
      "text/html": [
       "<div>\n",
       "<table border=\"1\" class=\"dataframe\">\n",
       "  <thead>\n",
       "    <tr style=\"text-align: right;\">\n",
       "      <th></th>\n",
       "      <th>0</th>\n",
       "      <th>len</th>\n",
       "      <th>phrase</th>\n",
       "    </tr>\n",
       "  </thead>\n",
       "  <tbody>\n",
       "    <tr>\n",
       "      <th>0</th>\n",
       "      <td>NOUN VERB ADP DET NOUN ADP DET ADJ NOUN NOUN</td>\n",
       "      <td>10</td>\n",
       "      <td>(Dorothy , lived , in , the , midst , of , the...</td>\n",
       "    </tr>\n",
       "    <tr>\n",
       "      <th>1</th>\n",
       "      <td>ADP DET NOUN PART VERB NOUN VERB PART VERB VER...</td>\n",
       "      <td>14</td>\n",
       "      <td>(for , the , lumber , to , build , it , had , ...</td>\n",
       "    </tr>\n",
       "    <tr>\n",
       "      <th>2</th>\n",
       "      <td>CONJ DET NOUN VERB DET ADJ ADJ NOUN NOUN</td>\n",
       "      <td>9</td>\n",
       "      <td>(and , this , room , contained , a , rusty , l...</td>\n",
       "    </tr>\n",
       "    <tr>\n",
       "      <th>3</th>\n",
       "      <td>NOUN NOUN CONJ NOUN NOUN VERB DET ADJ NOUN ADP...</td>\n",
       "      <td>12</td>\n",
       "      <td>(Uncle , Henry , and , Aunt , Em , had , a , b...</td>\n",
       "    </tr>\n",
       "    <tr>\n",
       "      <th>4</th>\n",
       "      <td>ADV DET NOUN VERB VERB ADP NOUN NUM ADP DET AD...</td>\n",
       "      <td>13</td>\n",
       "      <td>(where , the , family , could , go , in , case...</td>\n",
       "    </tr>\n",
       "    <tr>\n",
       "      <th>5</th>\n",
       "      <td>ADV ADV PART VERB DET NOUN ADP ADJ NOUN</td>\n",
       "      <td>9</td>\n",
       "      <td>(mighty , enough , to , crush , any , building...</td>\n",
       "    </tr>\n",
       "    <tr>\n",
       "      <th>6</th>\n",
       "      <td>ADV NOUN VERB ADP DET NOUN CONJ VERB ADP</td>\n",
       "      <td>9</td>\n",
       "      <td>(When , Dorothy , stood , in , the , doorway ,...</td>\n",
       "    </tr>\n",
       "    <tr>\n",
       "      <th>7</th>\n",
       "      <td>NOUN VERB VERB NOUN ADP DET ADJ ADJ NOUN ADP D...</td>\n",
       "      <td>12</td>\n",
       "      <td>(she , could , see , nothing , but , the , gre...</td>\n",
       "    </tr>\n",
       "    <tr>\n",
       "      <th>8</th>\n",
       "      <td>ADV DET NOUN CONJ DET NOUN VERB DET ADJ NOUN A...</td>\n",
       "      <td>23</td>\n",
       "      <td>(Not , a , tree , nor , a , house , broke , th...</td>\n",
       "    </tr>\n",
       "    <tr>\n",
       "      <th>9</th>\n",
       "      <td>DET NOUN VERB VERB DET VERB NOUN ADP DET ADJ NOUN</td>\n",
       "      <td>11</td>\n",
       "      <td>(The , sun , had , baked , the , plowed , land...</td>\n",
       "    </tr>\n",
       "    <tr>\n",
       "      <th>10</th>\n",
       "      <td>ADP DET NOUN VERB VERB DET NOUN ADP DET ADJ NO...</td>\n",
       "      <td>22</td>\n",
       "      <td>(for , the , sun , had , burned , the , tops ,...</td>\n",
       "    </tr>\n",
       "    <tr>\n",
       "      <th>11</th>\n",
       "      <td>CONJ DET NOUN VERB DET NOUN CONJ DET NOUN VERB...</td>\n",
       "      <td>12</td>\n",
       "      <td>(but , the , sun , blistered , the , paint , a...</td>\n",
       "    </tr>\n",
       "    <tr>\n",
       "      <th>12</th>\n",
       "      <td>CONJ ADV DET NOUN VERB ADV ADJ CONJ ADJ ADP NO...</td>\n",
       "      <td>12</td>\n",
       "      <td>(and , now , the , house , was , as , dull , a...</td>\n",
       "    </tr>\n",
       "    <tr>\n",
       "      <th>13</th>\n",
       "      <td>ADV NOUN NOUN VERB ADV PART VERB NOUN VERB DET...</td>\n",
       "      <td>11</td>\n",
       "      <td>(When , Aunt , Em , came , there , to , live ,...</td>\n",
       "    </tr>\n",
       "    <tr>\n",
       "      <th>14</th>\n",
       "      <td>NOUN VERB VERB DET NOUN ADP ADJ NOUN CONJ VERB...</td>\n",
       "      <td>14</td>\n",
       "      <td>(They , had , taken , the , sparkle , from , h...</td>\n",
       "    </tr>\n",
       "    <tr>\n",
       "      <th>15</th>\n",
       "      <td>NOUN VERB VERB DET NOUN ADP ADJ NOUN CONJ NOUN</td>\n",
       "      <td>10</td>\n",
       "      <td>(they , had , taken , the , red , from , her ,...</td>\n",
       "    </tr>\n",
       "    <tr>\n",
       "      <th>16</th>\n",
       "      <td>NOUN NOUN VERB VERB ADV VERB ADP DET NOUN PART...</td>\n",
       "      <td>30</td>\n",
       "      <td>(Aunt , Em , had , been , so , startled , by ,...</td>\n",
       "    </tr>\n",
       "    <tr>\n",
       "      <th>17</th>\n",
       "      <td>CONJ NOUN ADV VERB ADP DET ADJ NOUN ADP NOUN A...</td>\n",
       "      <td>18</td>\n",
       "      <td>(and , she , still , looked , at , the , littl...</td>\n",
       "    </tr>\n",
       "    <tr>\n",
       "      <th>18</th>\n",
       "      <td>NOUN VERB ADV ADP NOUN ADP NOUN CONJ VERB ADV ...</td>\n",
       "      <td>14</td>\n",
       "      <td>(He , worked , hard , from , morning , till , ...</td>\n",
       "    </tr>\n",
       "    <tr>\n",
       "      <th>19</th>\n",
       "      <td>CONJ VERB NOUN ADP VERB ADV ADJ ADP ADJ ADJ NOUN</td>\n",
       "      <td>11</td>\n",
       "      <td>(and , saved , her , from , growing , as , gra...</td>\n",
       "    </tr>\n",
       "    <tr>\n",
       "      <th>20</th>\n",
       "      <td>ADJ NOUN CONJ ADJ ADJ NOUN ADJ VERB ADV ADP DE...</td>\n",
       "      <td>15</td>\n",
       "      <td>(silky , hair , and , small , black , eyes , t...</td>\n",
       "    </tr>\n",
       "    <tr>\n",
       "      <th>21</th>\n",
       "      <td>NOUN VERB ADP DET NOUN ADP NOUN ADP ADJ NOUN</td>\n",
       "      <td>10</td>\n",
       "      <td>(Dorothy , stood , in , the , door , with , To...</td>\n",
       "    </tr>\n",
       "    <tr>\n",
       "      <th>22</th>\n",
       "      <td>ADP DET ADV NOUN NOUN VERB DET ADJ NOUN ADP DE...</td>\n",
       "      <td>12</td>\n",
       "      <td>(From , the , far , north , they , heard , a ,...</td>\n",
       "    </tr>\n",
       "    <tr>\n",
       "      <th>23</th>\n",
       "      <td>CONJ NOUN NOUN CONJ NOUN VERB VERB ADV DET ADJ...</td>\n",
       "      <td>18</td>\n",
       "      <td>(and , Uncle , Henry , and , Dorothy , could ,...</td>\n",
       "    </tr>\n",
       "    <tr>\n",
       "      <th>24</th>\n",
       "      <td>ADV ADV VERB DET ADJ NOUN ADP DET NOUN ADP DET...</td>\n",
       "      <td>12</td>\n",
       "      <td>(There , now , came , a , sharp , whistling , ...</td>\n",
       "    </tr>\n",
       "    <tr>\n",
       "      <th>25</th>\n",
       "      <td>CONJ ADP NOUN VERB ADJ NOUN DET NOUN NOUN VERB...</td>\n",
       "      <td>19</td>\n",
       "      <td>(and , as , they , turned , their , eyes , tha...</td>\n",
       "    </tr>\n",
       "    <tr>\n",
       "      <th>26</th>\n",
       "      <td>ADV NOUN VERB ADP DET NOUN ADV DET NOUN CONJ N...</td>\n",
       "      <td>13</td>\n",
       "      <td>(Then , he , ran , toward , the , sheds , wher...</td>\n",
       "    </tr>\n",
       "    <tr>\n",
       "      <th>27</th>\n",
       "      <td>NOUN NOUN VERB ADJ NOUN CONJ VERB ADP DET NOUN</td>\n",
       "      <td>10</td>\n",
       "      <td>(Aunt , Em , dropped , her , work , and , came...</td>\n",
       "    </tr>\n",
       "    <tr>\n",
       "      <th>28</th>\n",
       "      <td>NUM NOUN VERB NOUN ADP DET NOUN ADJ ADP NOUN</td>\n",
       "      <td>10</td>\n",
       "      <td>(One , glance , told , her , of , the , danger...</td>\n",
       "    </tr>\n",
       "    <tr>\n",
       "      <th>29</th>\n",
       "      <td>NOUN VERB ADP ADP NOUN PART NOUN CONJ VERB ADP...</td>\n",
       "      <td>12</td>\n",
       "      <td>(Toto , jumped , out , of , Dorothy, 's , arms...</td>\n",
       "    </tr>\n",
       "    <tr>\n",
       "      <th>...</th>\n",
       "      <td>...</td>\n",
       "      <td>...</td>\n",
       "      <td>...</td>\n",
       "    </tr>\n",
       "    <tr>\n",
       "      <th>1624</th>\n",
       "      <td>NOUN VERB VERB VERB ADJ ADJ NOUN ADP DET NOUN ...</td>\n",
       "      <td>12</td>\n",
       "      <td>(I , might , have , passed , my , whole , life...</td>\n",
       "    </tr>\n",
       "    <tr>\n",
       "      <th>1625</th>\n",
       "      <td>NOUN VERB VERB VERB CONJ VERB ADP DET NOUN ADP...</td>\n",
       "      <td>15</td>\n",
       "      <td>(I , might , have , stood , and , rusted , in ...</td>\n",
       "    </tr>\n",
       "    <tr>\n",
       "      <th>1626</th>\n",
       "      <td>CONJ DET NOUN ADP ADJ DET NOUN VERB VERB VERB ...</td>\n",
       "      <td>17</td>\n",
       "      <td>(and , no , beast , in , all , the , forest , ...</td>\n",
       "    </tr>\n",
       "    <tr>\n",
       "      <th>1627</th>\n",
       "      <td>CONJ NOUN VERB ADJ NOUN VERB ADP NOUN ADP DET ...</td>\n",
       "      <td>12</td>\n",
       "      <td>(and , I , am , glad , I , was , of , use , to...</td>\n",
       "    </tr>\n",
       "    <tr>\n",
       "      <th>1628</th>\n",
       "      <td>CONJ ADV ADP DET ADP NOUN VERB VERB NOUN NOUN ...</td>\n",
       "      <td>12</td>\n",
       "      <td>(But , now , that , each , of , them , has , h...</td>\n",
       "    </tr>\n",
       "    <tr>\n",
       "      <th>1629</th>\n",
       "      <td>CONJ DET VERB ADJ ADP VERB DET NOUN PART VERB ADP</td>\n",
       "      <td>11</td>\n",
       "      <td>(and , each , is , happy , in , having , a , k...</td>\n",
       "    </tr>\n",
       "    <tr>\n",
       "      <th>1630</th>\n",
       "      <td>CONJ NUM ADP DET ADV ADJ NOUN ADP NOUN VERB AD...</td>\n",
       "      <td>24</td>\n",
       "      <td>(And , one , of , the , most , curious , thing...</td>\n",
       "    </tr>\n",
       "    <tr>\n",
       "      <th>1631</th>\n",
       "      <td>CONJ DET NOUN VERB VERB VERB ADP DET NOUN ADP ...</td>\n",
       "      <td>12</td>\n",
       "      <td>(and , each , step , will , be , made , in , t...</td>\n",
       "    </tr>\n",
       "    <tr>\n",
       "      <th>1632</th>\n",
       "      <td>DET NOUN VERB PART VERB VERB PART VERB DET NOU...</td>\n",
       "      <td>25</td>\n",
       "      <td>(All , you , have , to , do , is , to , knock ...</td>\n",
       "    </tr>\n",
       "    <tr>\n",
       "      <th>1633</th>\n",
       "      <td>NOUN VERB VERB NOUN PART VERB NOUN ADV ADP NOU...</td>\n",
       "      <td>12</td>\n",
       "      <td>(I , will , ask , them , to , carry , me , bac...</td>\n",
       "    </tr>\n",
       "    <tr>\n",
       "      <th>1634</th>\n",
       "      <td>NOUN VERB ADJ NOUN ADP DET NOUN PART NOUN CONJ...</td>\n",
       "      <td>12</td>\n",
       "      <td>(She , threw , her , arms , around , the , Lio...</td>\n",
       "    </tr>\n",
       "    <tr>\n",
       "      <th>1635</th>\n",
       "      <td>NOUN VERB VERB ADP DET NOUN ADV ADJ ADP ADJ NOUN</td>\n",
       "      <td>11</td>\n",
       "      <td>(who , was , weeping , in , a , way , most , d...</td>\n",
       "    </tr>\n",
       "    <tr>\n",
       "      <th>1636</th>\n",
       "      <td>ADJ NOUN ADP DET NOUN ADP ADJ NOUN ADV ADP VER...</td>\n",
       "      <td>14</td>\n",
       "      <td>(stuffed , body , of , the , Scarecrow , in , ...</td>\n",
       "    </tr>\n",
       "    <tr>\n",
       "      <th>1637</th>\n",
       "      <td>CONJ VERB NOUN VERB VERB NOUN ADP DET NOUN VER...</td>\n",
       "      <td>14</td>\n",
       "      <td>(and , found , she , was , crying , herself , ...</td>\n",
       "    </tr>\n",
       "    <tr>\n",
       "      <th>1638</th>\n",
       "      <td>VERB DET NOUN VERB ADV ADP ADJ ADJ NOUN PART V...</td>\n",
       "      <td>16</td>\n",
       "      <td>(Glinda , the , Good , stepped , down , from ,...</td>\n",
       "    </tr>\n",
       "    <tr>\n",
       "      <th>1639</th>\n",
       "      <td>CONJ NOUN VERB NOUN ADP ADJ DET NOUN NOUN VERB...</td>\n",
       "      <td>16</td>\n",
       "      <td>(and , Dorothy , thanked , her , for , all , t...</td>\n",
       "    </tr>\n",
       "    <tr>\n",
       "      <th>1640</th>\n",
       "      <td>NOUN ADV VERB NOUN PART ADV ADP ADJ NOUN</td>\n",
       "      <td>9</td>\n",
       "      <td>(Dorothy , now , took , Toto , up , solemnly ,...</td>\n",
       "    </tr>\n",
       "    <tr>\n",
       "      <th>1641</th>\n",
       "      <td>INTJ NOUN VERB DET NOUN ADP ADJ NOUN ADV NUM NOUN</td>\n",
       "      <td>11</td>\n",
       "      <td>(bye , she , clapped , the , heels , of , her ...</td>\n",
       "    </tr>\n",
       "    <tr>\n",
       "      <th>1642</th>\n",
       "      <td>ADV ADV ADP DET NOUN VERB VERB CONJ VERB VERB ...</td>\n",
       "      <td>16</td>\n",
       "      <td>(so , swiftly , that , all , she , could , see...</td>\n",
       "    </tr>\n",
       "    <tr>\n",
       "      <th>1643</th>\n",
       "      <td>CONJ ADV NOUN VERB ADV ADV ADP NOUN VERB PART ...</td>\n",
       "      <td>21</td>\n",
       "      <td>(and , then , she , stopped , so , suddenly , ...</td>\n",
       "    </tr>\n",
       "    <tr>\n",
       "      <th>1644</th>\n",
       "      <td>ADP NOUN VERB VERB ADP DET ADJ NOUN NOUN</td>\n",
       "      <td>9</td>\n",
       "      <td>(For , she , was , sitting , on , the , broad ...</td>\n",
       "    </tr>\n",
       "    <tr>\n",
       "      <th>1645</th>\n",
       "      <td>NOUN NOUN NOUN VERB ADP DET NOUN VERB VERB PAR...</td>\n",
       "      <td>13</td>\n",
       "      <td>(house , Uncle , Henry , built , after , the ,...</td>\n",
       "    </tr>\n",
       "    <tr>\n",
       "      <th>1646</th>\n",
       "      <td>NOUN NOUN VERB VERB DET NOUN ADP DET NOUN</td>\n",
       "      <td>9</td>\n",
       "      <td>(Uncle , Henry , was , milking , the , cows , ...</td>\n",
       "    </tr>\n",
       "    <tr>\n",
       "      <th>1647</th>\n",
       "      <td>CONJ NOUN VERB VERB ADP ADP ADJ NOUN CONJ VERB...</td>\n",
       "      <td>14</td>\n",
       "      <td>(and , Toto , had , jumped , out , of , her , ...</td>\n",
       "    </tr>\n",
       "    <tr>\n",
       "      <th>1648</th>\n",
       "      <td>NOUN VERB PART CONJ VERB NOUN VERB ADP ADJ NOUN</td>\n",
       "      <td>10</td>\n",
       "      <td>(Dorothy , stood , up , and , found , she , wa...</td>\n",
       "    </tr>\n",
       "    <tr>\n",
       "      <th>1649</th>\n",
       "      <td>ADP DET NOUN NOUN VERB VERB PART ADP ADJ NOUN ...</td>\n",
       "      <td>13</td>\n",
       "      <td>(For , the , Silver , Shoes , had , fallen , o...</td>\n",
       "    </tr>\n",
       "    <tr>\n",
       "      <th>1650</th>\n",
       "      <td>NOUN NOUN VERB ADV VERB ADP ADP DET NOUN PART ...</td>\n",
       "      <td>23</td>\n",
       "      <td>(Aunt , Em , had , just , come , out , of , th...</td>\n",
       "    </tr>\n",
       "    <tr>\n",
       "      <th>1651</th>\n",
       "      <td>VERB DET ADJ NOUN ADP ADJ NOUN CONJ VERB ADJ N...</td>\n",
       "      <td>13</td>\n",
       "      <td>(folding , the , little , girl , in , her , ar...</td>\n",
       "    </tr>\n",
       "    <tr>\n",
       "      <th>1652</th>\n",
       "      <td>ADJ NOUN CONJ VERB NOUN VERB VERB VERB ADP</td>\n",
       "      <td>9</td>\n",
       "      <td>(Obvious , punctuation , and , spelling , erro...</td>\n",
       "    </tr>\n",
       "    <tr>\n",
       "      <th>1653</th>\n",
       "      <td>NOUN ADP NOUN NOUN PART DET NOUN NOUN ADP NOUN</td>\n",
       "      <td>10</td>\n",
       "      <td>(End , of , Project , Gutenberg, 's , The , Wo...</td>\n",
       "    </tr>\n",
       "  </tbody>\n",
       "</table>\n",
       "<p>1654 rows × 3 columns</p>\n",
       "</div>"
      ],
      "text/plain": [
       "                                                      0  len  \\\n",
       "0          NOUN VERB ADP DET NOUN ADP DET ADJ NOUN NOUN   10   \n",
       "1     ADP DET NOUN PART VERB NOUN VERB PART VERB VER...   14   \n",
       "2              CONJ DET NOUN VERB DET ADJ ADJ NOUN NOUN    9   \n",
       "3     NOUN NOUN CONJ NOUN NOUN VERB DET ADJ NOUN ADP...   12   \n",
       "4     ADV DET NOUN VERB VERB ADP NOUN NUM ADP DET AD...   13   \n",
       "5               ADV ADV PART VERB DET NOUN ADP ADJ NOUN    9   \n",
       "6              ADV NOUN VERB ADP DET NOUN CONJ VERB ADP    9   \n",
       "7     NOUN VERB VERB NOUN ADP DET ADJ ADJ NOUN ADP D...   12   \n",
       "8     ADV DET NOUN CONJ DET NOUN VERB DET ADJ NOUN A...   23   \n",
       "9     DET NOUN VERB VERB DET VERB NOUN ADP DET ADJ NOUN   11   \n",
       "10    ADP DET NOUN VERB VERB DET NOUN ADP DET ADJ NO...   22   \n",
       "11    CONJ DET NOUN VERB DET NOUN CONJ DET NOUN VERB...   12   \n",
       "12    CONJ ADV DET NOUN VERB ADV ADJ CONJ ADJ ADP NO...   12   \n",
       "13    ADV NOUN NOUN VERB ADV PART VERB NOUN VERB DET...   11   \n",
       "14    NOUN VERB VERB DET NOUN ADP ADJ NOUN CONJ VERB...   14   \n",
       "15       NOUN VERB VERB DET NOUN ADP ADJ NOUN CONJ NOUN   10   \n",
       "16    NOUN NOUN VERB VERB ADV VERB ADP DET NOUN PART...   30   \n",
       "17    CONJ NOUN ADV VERB ADP DET ADJ NOUN ADP NOUN A...   18   \n",
       "18    NOUN VERB ADV ADP NOUN ADP NOUN CONJ VERB ADV ...   14   \n",
       "19     CONJ VERB NOUN ADP VERB ADV ADJ ADP ADJ ADJ NOUN   11   \n",
       "20    ADJ NOUN CONJ ADJ ADJ NOUN ADJ VERB ADV ADP DE...   15   \n",
       "21         NOUN VERB ADP DET NOUN ADP NOUN ADP ADJ NOUN   10   \n",
       "22    ADP DET ADV NOUN NOUN VERB DET ADJ NOUN ADP DE...   12   \n",
       "23    CONJ NOUN NOUN CONJ NOUN VERB VERB ADV DET ADJ...   18   \n",
       "24    ADV ADV VERB DET ADJ NOUN ADP DET NOUN ADP DET...   12   \n",
       "25    CONJ ADP NOUN VERB ADJ NOUN DET NOUN NOUN VERB...   19   \n",
       "26    ADV NOUN VERB ADP DET NOUN ADV DET NOUN CONJ N...   13   \n",
       "27       NOUN NOUN VERB ADJ NOUN CONJ VERB ADP DET NOUN   10   \n",
       "28         NUM NOUN VERB NOUN ADP DET NOUN ADJ ADP NOUN   10   \n",
       "29    NOUN VERB ADP ADP NOUN PART NOUN CONJ VERB ADP...   12   \n",
       "...                                                 ...  ...   \n",
       "1624  NOUN VERB VERB VERB ADJ ADJ NOUN ADP DET NOUN ...   12   \n",
       "1625  NOUN VERB VERB VERB CONJ VERB ADP DET NOUN ADP...   15   \n",
       "1626  CONJ DET NOUN ADP ADJ DET NOUN VERB VERB VERB ...   17   \n",
       "1627  CONJ NOUN VERB ADJ NOUN VERB ADP NOUN ADP DET ...   12   \n",
       "1628  CONJ ADV ADP DET ADP NOUN VERB VERB NOUN NOUN ...   12   \n",
       "1629  CONJ DET VERB ADJ ADP VERB DET NOUN PART VERB ADP   11   \n",
       "1630  CONJ NUM ADP DET ADV ADJ NOUN ADP NOUN VERB AD...   24   \n",
       "1631  CONJ DET NOUN VERB VERB VERB ADP DET NOUN ADP ...   12   \n",
       "1632  DET NOUN VERB PART VERB VERB PART VERB DET NOU...   25   \n",
       "1633  NOUN VERB VERB NOUN PART VERB NOUN ADV ADP NOU...   12   \n",
       "1634  NOUN VERB ADJ NOUN ADP DET NOUN PART NOUN CONJ...   12   \n",
       "1635   NOUN VERB VERB ADP DET NOUN ADV ADJ ADP ADJ NOUN   11   \n",
       "1636  ADJ NOUN ADP DET NOUN ADP ADJ NOUN ADV ADP VER...   14   \n",
       "1637  CONJ VERB NOUN VERB VERB NOUN ADP DET NOUN VER...   14   \n",
       "1638  VERB DET NOUN VERB ADV ADP ADJ ADJ NOUN PART V...   16   \n",
       "1639  CONJ NOUN VERB NOUN ADP ADJ DET NOUN NOUN VERB...   16   \n",
       "1640           NOUN ADV VERB NOUN PART ADV ADP ADJ NOUN    9   \n",
       "1641  INTJ NOUN VERB DET NOUN ADP ADJ NOUN ADV NUM NOUN   11   \n",
       "1642  ADV ADV ADP DET NOUN VERB VERB CONJ VERB VERB ...   16   \n",
       "1643  CONJ ADV NOUN VERB ADV ADV ADP NOUN VERB PART ...   21   \n",
       "1644           ADP NOUN VERB VERB ADP DET ADJ NOUN NOUN    9   \n",
       "1645  NOUN NOUN NOUN VERB ADP DET NOUN VERB VERB PAR...   13   \n",
       "1646          NOUN NOUN VERB VERB DET NOUN ADP DET NOUN    9   \n",
       "1647  CONJ NOUN VERB VERB ADP ADP ADJ NOUN CONJ VERB...   14   \n",
       "1648    NOUN VERB PART CONJ VERB NOUN VERB ADP ADJ NOUN   10   \n",
       "1649  ADP DET NOUN NOUN VERB VERB PART ADP ADJ NOUN ...   13   \n",
       "1650  NOUN NOUN VERB ADV VERB ADP ADP DET NOUN PART ...   23   \n",
       "1651  VERB DET ADJ NOUN ADP ADJ NOUN CONJ VERB ADJ N...   13   \n",
       "1652         ADJ NOUN CONJ VERB NOUN VERB VERB VERB ADP    9   \n",
       "1653     NOUN ADP NOUN NOUN PART DET NOUN NOUN ADP NOUN   10   \n",
       "\n",
       "                                                 phrase  \n",
       "0     (Dorothy , lived , in , the , midst , of , the...  \n",
       "1     (for , the , lumber , to , build , it , had , ...  \n",
       "2     (and , this , room , contained , a , rusty , l...  \n",
       "3     (Uncle , Henry , and , Aunt , Em , had , a , b...  \n",
       "4     (where , the , family , could , go , in , case...  \n",
       "5     (mighty , enough , to , crush , any , building...  \n",
       "6     (When , Dorothy , stood , in , the , doorway ,...  \n",
       "7     (she , could , see , nothing , but , the , gre...  \n",
       "8     (Not , a , tree , nor , a , house , broke , th...  \n",
       "9     (The , sun , had , baked , the , plowed , land...  \n",
       "10    (for , the , sun , had , burned , the , tops ,...  \n",
       "11    (but , the , sun , blistered , the , paint , a...  \n",
       "12    (and , now , the , house , was , as , dull , a...  \n",
       "13    (When , Aunt , Em , came , there , to , live ,...  \n",
       "14    (They , had , taken , the , sparkle , from , h...  \n",
       "15    (they , had , taken , the , red , from , her ,...  \n",
       "16    (Aunt , Em , had , been , so , startled , by ,...  \n",
       "17    (and , she , still , looked , at , the , littl...  \n",
       "18    (He , worked , hard , from , morning , till , ...  \n",
       "19    (and , saved , her , from , growing , as , gra...  \n",
       "20    (silky , hair , and , small , black , eyes , t...  \n",
       "21    (Dorothy , stood , in , the , door , with , To...  \n",
       "22    (From , the , far , north , they , heard , a ,...  \n",
       "23    (and , Uncle , Henry , and , Dorothy , could ,...  \n",
       "24    (There , now , came , a , sharp , whistling , ...  \n",
       "25    (and , as , they , turned , their , eyes , tha...  \n",
       "26    (Then , he , ran , toward , the , sheds , wher...  \n",
       "27    (Aunt , Em , dropped , her , work , and , came...  \n",
       "28    (One , glance , told , her , of , the , danger...  \n",
       "29    (Toto , jumped , out , of , Dorothy, 's , arms...  \n",
       "...                                                 ...  \n",
       "1624  (I , might , have , passed , my , whole , life...  \n",
       "1625  (I , might , have , stood , and , rusted , in ...  \n",
       "1626  (and , no , beast , in , all , the , forest , ...  \n",
       "1627  (and , I , am , glad , I , was , of , use , to...  \n",
       "1628  (But , now , that , each , of , them , has , h...  \n",
       "1629  (and , each , is , happy , in , having , a , k...  \n",
       "1630  (And , one , of , the , most , curious , thing...  \n",
       "1631  (and , each , step , will , be , made , in , t...  \n",
       "1632  (All , you , have , to , do , is , to , knock ...  \n",
       "1633  (I , will , ask , them , to , carry , me , bac...  \n",
       "1634  (She , threw , her , arms , around , the , Lio...  \n",
       "1635  (who , was , weeping , in , a , way , most , d...  \n",
       "1636  (stuffed , body , of , the , Scarecrow , in , ...  \n",
       "1637  (and , found , she , was , crying , herself , ...  \n",
       "1638  (Glinda , the , Good , stepped , down , from ,...  \n",
       "1639  (and , Dorothy , thanked , her , for , all , t...  \n",
       "1640  (Dorothy , now , took , Toto , up , solemnly ,...  \n",
       "1641  (bye , she , clapped , the , heels , of , her ...  \n",
       "1642  (so , swiftly , that , all , she , could , see...  \n",
       "1643  (and , then , she , stopped , so , suddenly , ...  \n",
       "1644  (For , she , was , sitting , on , the , broad ...  \n",
       "1645  (house , Uncle , Henry , built , after , the ,...  \n",
       "1646  (Uncle , Henry , was , milking , the , cows , ...  \n",
       "1647  (and , Toto , had , jumped , out , of , her , ...  \n",
       "1648  (Dorothy , stood , up , and , found , she , wa...  \n",
       "1649  (For , the , Silver , Shoes , had , fallen , o...  \n",
       "1650  (Aunt , Em , had , just , come , out , of , th...  \n",
       "1651  (folding , the , little , girl , in , her , ar...  \n",
       "1652  (Obvious , punctuation , and , spelling , erro...  \n",
       "1653  (End , of , Project , Gutenberg, 's , The , Wo...  \n",
       "\n",
       "[1654 rows x 3 columns]"
      ]
     },
     "execution_count": 55,
     "metadata": {},
     "output_type": "execute_result"
    }
   ],
   "source": [
    "gr_df"
   ]
  },
  {
   "cell_type": "code",
   "execution_count": 47,
   "metadata": {
    "collapsed": false
   },
   "outputs": [
    {
     "data": {
      "text/plain": [
       "(array([   1.,    4.,   36.,  110.,  210.,  230.,  217.,  163.,  120.,\n",
       "         130.,   82.,   63.,   52.,   46.,   38.,   35.,   26.,   22.,\n",
       "          21.,   17.,    5.,    6.,    5.,    2.,    2.,    5.,    4.,\n",
       "           0.,    0.,    0.,    0.,    0.,    0.,    1.,    0.,    0.,\n",
       "           0.,    0.,    0.,    1.]),\n",
       " array([  6.   ,   6.975,   7.95 ,   8.925,   9.9  ,  10.875,  11.85 ,\n",
       "         12.825,  13.8  ,  14.775,  15.75 ,  16.725,  17.7  ,  18.675,\n",
       "         19.65 ,  20.625,  21.6  ,  22.575,  23.55 ,  24.525,  25.5  ,\n",
       "         26.475,  27.45 ,  28.425,  29.4  ,  30.375,  31.35 ,  32.325,\n",
       "         33.3  ,  34.275,  35.25 ,  36.225,  37.2  ,  38.175,  39.15 ,\n",
       "         40.125,  41.1  ,  42.075,  43.05 ,  44.025,  45.   ]),\n",
       " <a list of 40 Patch objects>)"
      ]
     },
     "execution_count": 47,
     "metadata": {},
     "output_type": "execute_result"
    },
    {
     "data": {
      "image/png": "[encoded data removed]",
      "text/plain": [
       "<matplotlib.figure.Figure at 0x11383f310>"
      ]
     },
     "metadata": {},
     "output_type": "display_data"
    }
   ],
   "source": [
    "import numpy as np\n",
    "%matplotlib inline\n",
    "import matplotlib.pyplot as plt\n",
    "plt.hist(y,bins=40)"
   ]
  },
  {
   "cell_type": "code",
   "execution_count": 32,
   "metadata": {
    "collapsed": false
   },
   "outputs": [
    {
     "data": {
      "text/plain": [
       "array([0, 1, 2, 3, 4, 5, 6, 7, 8, 9])"
      ]
     },
     "execution_count": 32,
     "metadata": {},
     "output_type": "execute_result"
    }
   ],
   "source": [
    "x = np.arange(0,10)\n",
    "x"
   ]
  },
  {
   "cell_type": "code",
   "execution_count": 12,
   "metadata": {
    "collapsed": false
   },
   "outputs": [],
   "source": [
    "sentences = sentences_by_chapter(paragraphs)"
   ]
  },
  {
   "cell_type": "code",
   "execution_count": 13,
   "metadata": {
    "collapsed": false
   },
   "outputs": [],
   "source": [
    "grammar_sentences = grammar_pos(sentences)"
   ]
  },
  {
   "cell_type": "code",
   "execution_count": 23,
   "metadata": {
    "collapsed": true
   },
   "outputs": [],
   "source": [
    "parsed_sentences = chapter_parsed(sentences)"
   ]
  },
  {
   "cell_type": "code",
   "execution_count": 2,
   "metadata": {
    "collapsed": true
   },
   "outputs": [],
   "source": [
    "import requests\n",
    "\n",
    "def load_text(url):\n",
    "    text = requests.get(url).text\n",
    "    text = text.split(\"\\r\\n\\r\\n\") # text.split('\\n')\n",
    "    return text\n",
    "\n",
    "def find_chapters(text):\n",
    "    \"\"\"input: raw text from request\n",
    "    output: the location of the start of each chapter\"\"\"\n",
    "    chapters = []\n",
    "    chapter_titles = []\n",
    "    for i,split in enumerate(text):\n",
    "        if split.find(\"Chapter \") != -1:\n",
    "            chapter_titles.append(split)\n",
    "            chapters.append(i)\n",
    "    #         print(split)\n",
    "        if split.find(\"*** END\") != -1:\n",
    "            chapter_titles.append(split)\n",
    "            chapters.append(i)\n",
    "#             print(split)\n",
    "    return chapters\n",
    "\n",
    "def chapter_contents(text,chapters):\n",
    "    \"\"\"input: the text along with the location of the start of each chapter\n",
    "    output: the list of chapter_contents (are they lists or strings?!)\"\"\"\n",
    "    chapter_content = []\n",
    "    for i,chapter in enumerate(chapters[0:len(chapters)-1]):\n",
    "        chapter_content.append(text[chapter:chapters[i+1]])\n",
    "    return chapter_content"
   ]
  },
  {
   "cell_type": "markdown",
   "metadata": {},
   "source": [
    "## YO CHAPTER PARAGAPHS"
   ]
  },
  {
   "cell_type": "code",
   "execution_count": 3,
   "metadata": {
    "collapsed": true
   },
   "outputs": [],
   "source": [
    "def chapter_paragraph_built(chpt_num,chapter_content):\n",
    "    \"\"\"input: chpt_num - which chapter we want to look at\n",
    "    output: the chapter list\"\"\"\n",
    "    chpt = [paragraph.lstrip('\\r\\n').strip() for paragraph in chapter_content[chpt_num - 1] \n",
    "         if len(paragraph.lstrip('\\r\\n').strip()) > 40]\n",
    "    chpt = [\" \".join(phrase.split()) for phrase in chpt]\n",
    "    chpt = [phrase.replace(\" ,\",\",\").replace(\" 's\",\"'s\") for phrase in chpt]\n",
    "    return chpt"
   ]
  },
  {
   "cell_type": "code",
   "execution_count": 4,
   "metadata": {
    "collapsed": true
   },
   "outputs": [],
   "source": [
    "def all_chapter_paragraphs(chapter_content):\n",
    "    v = []\n",
    "    for i in range(len(chapter_content)):\n",
    "        chpt = [paragraph.lstrip('\\r\\n').strip() for paragraph in chapter_content[i]\n",
    "                    if len(paragraph.lstrip('\\r\\n').strip()) > 40]\n",
    "        chpt = [\" \".join(phrase.split()) for phrase in chpt]\n",
    "        chpt = [phrase.replace(\" ,\",\",\").replace(\" 's\",\"'s\") for phrase in chpt]\n",
    "        v = v + chpt\n",
    "    return v"
   ]
  },
  {
   "cell_type": "code",
   "execution_count": 19,
   "metadata": {
    "collapsed": false
   },
   "outputs": [],
   "source": [
    "import re\n",
    "\n",
    "def sentences_by_chapter(chapter):\n",
    "    \"\"\"\n",
    "        Input: a chapter and whether we keep spoken or author written text\n",
    "        Output: a list of phrases\n",
    "    \"\"\"\n",
    "    sentences = re.split('; |\\.|\\!|\\?', ' '.join(chapter))\n",
    "    long_sentences = [sentence.strip().lstrip('_\"]') for sentence in sentences if len(sentence) > 45]\n",
    "    res = [parser(sentence) for sentence in long_sentences]\n",
    "    return res\n",
    "\n",
    "def clause_split(text_list):\n",
    "    \"\"\"\n",
    "        Input: a list of sentences \n",
    "        Output: a list of parsed phrases\n",
    "    \"\"\"\n",
    "    sentences = re.split('; |\\.|\\!|\\?|,|-', ' '.join(text_list))\n",
    "    long_sentences = [sentence.strip().lstrip('_\"]') for sentence in sentences if len(sentence) > 45]\n",
    "    res = [parser(sentence) for sentence in long_sentences]\n",
    "    return res\n",
    "\n",
    "\n",
    "def chapter_parsed_full(parsed_sentences):\n",
    "    \"\"\"Input: parsed_sentence...\"\"\"\n",
    "    return [' '.join([word.orth_ for word in sentence]) \n",
    "                            for sentence in parsed_sentences]\n",
    "\n",
    "def chapter_parsed(parsed_sentences, spoken=False):\n",
    "    \n",
    "    partofspeech_sentence = [' '.join([word.pos_ for word in sentence]) \n",
    "                             for sentence in parsed_sentences]\n",
    "    if spoken == True:    \n",
    "        \n",
    "        lkz = [i for i,sentence in enumerate(partofspeech_sentence) \n",
    "           if sentence.find(\"PUNCT PUNCT\") != -1]\n",
    "        \n",
    "        partofspeech = [parsed_sentences[i] for i in lkz]\n",
    "        sentences = [' '.join([word.orth_ for word in parsed_sentences[i]]) for i in lkz]\n",
    "    else:\n",
    "        \n",
    "        prgz = [i for i,sentence in enumerate(partofspeech_sentence) \n",
    "           if sentence.find(\"PUNCT PUNCT\") == -1]\n",
    "        \n",
    "        partofspeech = [parsed_sentences[i] for i in prgz]\n",
    "        sentences = [' '.join([word.orth_ for word in parsed_sentences[i]]) for i in prgz]\n",
    "\n",
    "    return sentences\n",
    "\n",
    "def partofspeech(token_phrase, partofspeech_list):\n",
    "    \"\"\"\n",
    "        Input: a phrase and the parts of speech we want to collect from the phrase.\n",
    "        Output: a shortened segment of phrase only containing those parts of speech. \n",
    "    \"\"\"\n",
    "    new_phrase = [' '.join([word.pos_ for word in token_phrase]) for token_phrase in token_phrases if word.pos_ in partofspeech_list]\n",
    "    return new_phrase\n",
    "\n",
    "def grammar_pos(parsed_sentences):\n",
    "    grammar_sentences = [' '.join([word.pos_ for word in phrase]) for phrase in parsed_sentences]\n",
    "    return grammar_sentences"
   ]
  },
  {
   "cell_type": "code",
   "execution_count": null,
   "metadata": {
    "collapsed": true
   },
   "outputs": [],
   "source": []
  },
  {
   "cell_type": "code",
   "execution_count": 6,
   "metadata": {
    "collapsed": false
   },
   "outputs": [],
   "source": [
    "stop = '/Users/ingrid/Desktop/yellp/opinion-lexicon-English/terrier-stop.txt'\n",
    "x = open(stop)"
   ]
  },
  {
   "cell_type": "code",
   "execution_count": 7,
   "metadata": {
    "collapsed": false
   },
   "outputs": [],
   "source": [
    "stop_words = x.read().split('\\n')"
   ]
  },
  {
   "cell_type": "code",
   "execution_count": 8,
   "metadata": {
    "collapsed": true
   },
   "outputs": [],
   "source": [
    "from sklearn.feature_extraction.text import CountVectorizer\n",
    "from sklearn.base import TransformerMixin\n",
    "from sklearn.pipeline import Pipeline\n",
    "from sklearn.svm import LinearSVC\n",
    "from sklearn.feature_extraction.stop_words import ENGLISH_STOP_WORDS\n",
    "from sklearn.metrics import accuracy_score\n",
    "from nltk.corpus import stopwords\n",
    "import string\n",
    "import re"
   ]
  },
  {
   "cell_type": "code",
   "execution_count": 9,
   "metadata": {
    "collapsed": true
   },
   "outputs": [],
   "source": [
    "# A custom stoplist\n",
    "STOPLIST = set(stopwords.words('english') + [\"n't\", \"'s\", \"'m\", \"ca\",\"illustration\", \"chapter\"] + list(ENGLISH_STOP_WORDS))\n",
    "# List of symbols we don't care about\n",
    "SYMBOLS = \" \".join(string.punctuation).split(\" \") + [\"-----\", \"---\", \"...\", \"“\", \"”\", \"'ve\"]"
   ]
  },
  {
   "cell_type": "code",
   "execution_count": 10,
   "metadata": {
    "collapsed": false
   },
   "outputs": [],
   "source": [
    "from spacy.en import English\n",
    "parser = English()"
   ]
  },
  {
   "cell_type": "code",
   "execution_count": null,
   "metadata": {
    "collapsed": true
   },
   "outputs": [],
   "source": [
    "# Similarity matrix of paragraphs using Word2Vec"
   ]
  },
  {
   "cell_type": "code",
   "execution_count": 11,
   "metadata": {
    "collapsed": true
   },
   "outputs": [],
   "source": [
    "def tokenizer(text):\n",
    "    \n",
    "    # get the tokens using spaCy\n",
    "    tokens = parser(text)\n",
    "#     print(tokens[0].orth_)\n",
    "    # lemmatize\n",
    "#     print(tokens[0].pos == 89)\n",
    "#     tokens = [token for token in tokens if str(token.pos_) == \"ADJ\"]\n",
    "\n",
    "#     print(tokens)\n",
    "    lemmas = []\n",
    "    for tok in tokens:\n",
    "        lemmas.append(tok.lemma_.lower().strip() if tok.lemma_ != \"-PRON-\" else tok.lower_)\n",
    "    tokens = lemmas\n",
    "\n",
    "    # stoplist the tokens\n",
    "    tokens = [tok for tok in tokens if tok not in STOPLIST]\n",
    "\n",
    "    # stoplist symbols\n",
    "    tokens = [tok for tok in tokens if tok not in SYMBOLS]\n",
    "#     print(tokens)\n",
    "    # remove large strings of whitespace\n",
    "    while \"\" in tokens:\n",
    "        tokens.remove(\"\")\n",
    "    while \" \" in tokens:\n",
    "        tokens.remove(\" \")\n",
    "    while \"\\n\" in tokens:\n",
    "        tokens.remove(\"\\n\")\n",
    "    while \"\\n\\n\" in tokens:\n",
    "        tokens.remove(\"\\n\\n\")\n",
    "    \n",
    "#     tokens = parser(\" \".join(tokens))\n",
    "    \n",
    "    return tokens\n"
   ]
  },
  {
   "cell_type": "code",
   "execution_count": 26,
   "metadata": {
    "collapsed": true
   },
   "outputs": [],
   "source": [
    "# Every step in a pipeline needs to be a \"transformer\". \n",
    "# Define a custom transformer to clean text using spaCy\n",
    "class CleanTextTransformer(TransformerMixin):\n",
    "    \"\"\"\n",
    "    Convert text to cleaned text\n",
    "    \"\"\"\n",
    "\n",
    "    def transform(self, X, **transform_params):\n",
    "        return [cleanText(text) for text in X]\n",
    "\n",
    "    def fit(self, X, y=None, **fit_params):\n",
    "        return self\n",
    "\n",
    "    def get_params(self, deep=True):\n",
    "        return {}\n",
    "    \n",
    "# A custom function to clean the text before sending it into the vectorizer\n",
    "def cleanText(text):\n",
    "    # get rid of newlines\n",
    "    text = text.strip().replace(\"\\n\", \" \").replace(\"\\r\", \" \")\n",
    "\n",
    "    # lowercase\n",
    "    text = text.lower()\n",
    "\n",
    "    return text\n",
    "\n",
    "# A custom function to tokenize the text using spaCy\n",
    "# and convert to lemmas\n",
    "def tokenizeText(sample):\n",
    "    \n",
    "    # get the tokens using spaCy\n",
    "    tokens = parser(sample)\n",
    "#     print(tokens[0].orth_)\n",
    "    # lemmatize\n",
    "    lemmas = []\n",
    "    for tok in tokens:\n",
    "        lemmas.append(tok.lemma_.lower().strip() if tok.lemma_ != \"-PRON-\" else tok.lower_)\n",
    "    tokens = lemmas\n",
    "\n",
    "    # stoplist the tokens\n",
    "    tokens = [tok for tok in tokens if tok not in STOPLIST]\n",
    "\n",
    "    # stoplist symbols\n",
    "    tokens = [tok for tok in tokens if tok not in SYMBOLS]\n",
    "\n",
    "    # remove large strings of whitespace\n",
    "    while \"\" in tokens:\n",
    "        tokens.remove(\"\")\n",
    "    while \" \" in tokens:\n",
    "        tokens.remove(\" \")\n",
    "    while \"\\n\" in tokens:\n",
    "        tokens.remove(\"\\n\")\n",
    "    while \"\\n\\n\" in tokens:\n",
    "        tokens.remove(\"\\n\\n\")\n",
    "\n",
    "    return tokens\n",
    "\n",
    "def printNMostInformative(vectorizer, clf, N):\n",
    "    \"\"\"Prints features with the highest coefficient values, per class\"\"\"\n",
    "    feature_names = vectorizer.get_feature_names()\n",
    "    coefs_with_fns = sorted(zip(clf.coef_[0], feature_names))\n",
    "    topClass1 = coefs_with_fns[:N]\n",
    "    topClass2 = coefs_with_fns[:-(N + 1):-1]\n",
    "    print(\"Class 1 best: \")\n",
    "    for feat in topClass1:\n",
    "        print(feat)\n",
    "    print(\"Class 2 best: \")\n",
    "    for feat in topClass2:\n",
    "        print(feat)\n",
    "  "
   ]
  },
  {
   "cell_type": "markdown",
   "metadata": {},
   "source": [
    "## TOPICS!"
   ]
  },
  {
   "cell_type": "code",
   "execution_count": 27,
   "metadata": {
    "collapsed": true
   },
   "outputs": [],
   "source": [
    "# Author: Olivier Grisel <olivier.grisel@ensta.org>\n",
    "#         Lars Buitinck <L.J.Buitinck@uva.nl>\n",
    "#         Chyi-Kwei Yau <chyikwei.yau@gmail.com>\n",
    "# License: BSD 3 clause\n",
    "\n",
    "from __future__ import print_function\n",
    "from time import time\n",
    "\n",
    "from sklearn.feature_extraction.text import TfidfVectorizer, CountVectorizer\n",
    "from sklearn.decomposition import NMF, LatentDirichletAllocation\n",
    "from sklearn.datasets import fetch_20newsgroups\n",
    "\n",
    "n_samples = 2000\n",
    "n_features = 1000\n",
    "n_topics = 10\n",
    "n_top_words = 40\n",
    "\n",
    "def store_top_ngrams(model, feature_names, n_top_words):\n",
    "    ngram_topic_lists = []\n",
    "    for topic_idx, topic in enumerate(model.components_):\n",
    "        topic_words = [feature_names[i] for i in topic.argsort()[:-n_top_words - 1:-1]]\n",
    "        ngram_topic_lists.append(topic_words)\n",
    "    return ngram_topic_lists\n",
    "\n",
    "def print_top_words(model, feature_names, n_top_words):\n",
    "    for topic_idx, topic in enumerate(model.components_):\n",
    "        print(\"Topic #%d:\" % topic_idx)\n",
    "        print(\" : \".join([feature_names[i]\n",
    "                        for i in topic.argsort()[:-n_top_words - 1:-1]]))\n",
    "    print()\n",
    "    "
   ]
  },
  {
   "cell_type": "code",
   "execution_count": 29,
   "metadata": {
    "collapsed": false,
    "scrolled": false
   },
   "outputs": [
    {
     "name": "stdout",
     "output_type": "stream",
     "text": [
      "Loading dataset...\n",
      "done in 0.000s.\n",
      "Extracting tf-idf features for NMF...\n",
      "done in 1.583s.\n",
      "Extracting tf features for LDA...\n",
      "done in 1.497s.\n",
      "Fitting the NMF model with tf-idf features,n_samples=2000 and n_features=1000...\n",
      "done in 0.146s.\n",
      "\n",
      "Topics in NMF model:\n",
      "Topic #0:\n",
      "adp det noun adp det : det noun adp det noun : noun adp det noun adp : verb adp det noun adp : adj adp det noun adp : verb verb adp det noun : noun adp det noun verb : verb adj noun adp det : adj noun adp det noun : adv verb adj noun adp : noun adp det noun conj : adp det noun adp noun : det noun adp det adj : verb adj adp det noun : noun verb verb adp det : adv adp det noun adp : verb verb verb adp det : conj verb adp det noun : noun adp det noun noun : noun adp noun verb adp : adp adp det noun adp : noun verb verb verb adp : det verb adp det noun : adp det noun det noun : det noun verb det adj : adj noun adp noun verb : verb conj verb adp det : adv verb det adj noun : adp noun adp det noun : conj det noun verb verb : adv verb adp det noun : adp det noun verb det : noun adp det noun det : det noun verb verb verb : conj det adj noun verb : conj det noun adp det : conj noun verb adv adv : noun verb verb verb conj : conj det adj noun adp : noun det verb adp det\n",
      "Topic #1:\n",
      "noun verb adp det noun : verb adp det noun conj : adp det noun conj verb : det noun verb adp det : noun noun verb adp det : verb adp det noun adp : det noun noun verb adp : adv noun verb adp det : det noun conj verb adp : verb adp det noun noun : adp det noun verb adp : adj noun verb adp det : adp det noun adp noun : verb verb adp det noun : noun verb verb adp det : verb adp det noun verb : adp noun verb adp det : det noun conj verb det : det noun conj verb noun : noun conj verb det noun : verb noun verb adp det : noun conj verb adp det : conj det noun verb adp : verb adp det noun adv : det noun conj det noun : det adj noun verb adp : adp det noun conj det : adp det noun noun verb : det noun conj verb adv : adp det noun verb verb : conj det noun noun verb : verb det noun noun verb : conj verb adp det noun : det noun adp noun verb : noun adp det noun conj : adv det noun noun verb : noun conj det noun noun : noun adp noun verb adp : noun verb det noun noun : adv det noun verb adp\n",
      "Topic #2:\n",
      "adj noun adp det noun : det adj noun adp det : verb det adj noun adp : adp det adj noun adp : verb adp det adj noun : noun verb det adj noun : noun verb adp det adj : verb verb det adj noun : det adj noun adp noun : adv verb det adj noun : noun adp det noun noun : det adj noun adp adj : adp noun verb adp det : noun verb verb det adj : adp noun verb det adj : noun adp det noun adp : verb verb adp det adj : verb adj noun adp det : adj noun verb det adj : noun adp det noun verb : noun adp det noun adv : noun noun verb det adj : adj noun adp adj noun : noun adv verb adp det : conj noun adv verb adp : adv verb adp det adj : conj adj noun verb det : adp adj noun adp det : adj noun adp det adj : det noun verb det adj : adj adj noun adp det : adv adp det adj noun : noun verb verb adp det : adp det noun noun noun : adj noun verb adp det : adv verb adj noun adp : det noun noun verb verb : noun verb adj adv verb : adv adv verb det adj : conj verb det adj noun\n",
      "Topic #3:\n",
      "det noun adp adj noun : verb det noun adp adj : adp det noun adp adj : noun verb det noun adp : noun adp adj noun adp : noun adp adj noun conj : noun adp adj noun verb : adp adj noun adp det : noun adp adj noun adv : adp adj noun conj verb : adv adp det noun adp : adv verb det noun adp : verb adp det noun adp : verb verb det noun adp : adp noun verb det noun : noun adp det noun adp : conj verb det noun adp : adj noun adp det noun : adp verb det noun adp : adj noun conj verb noun : adj noun verb det noun : adp adj noun adp noun : adp adj noun adp adj : adj noun adp adj noun : adj adj noun verb det : verb adv verb adv adp : adv verb adv adp det : det noun verb det noun : noun conj verb noun adj : noun adv verb det noun : noun noun verb det noun : adv adv verb det noun : adj noun adp noun verb : adp adj noun verb adp : adp adj noun verb adv : adv verb noun verb det : verb verb adp det noun : det adj adj noun verb : noun verb det noun verb : adp adj noun conj noun\n",
      "Topic #4:\n",
      "noun verb verb det noun : verb verb det noun adp : noun noun verb verb det : adp noun verb verb det : det noun noun verb verb : verb verb det noun noun : verb det noun noun verb : verb det noun adp det : verb noun verb verb det : verb det noun adp noun : verb verb det noun verb : adv noun verb verb det : det adj noun noun verb : noun verb noun verb verb : conj det adj noun noun : adj noun noun verb verb : conj noun verb verb det : det noun verb verb det : verb verb verb det noun : noun verb verb verb det : noun adp noun verb verb : adp noun noun verb verb : noun verb verb det adj : noun noun verb verb adv : adj noun verb verb det : conj adp noun verb verb : verb det noun adp adj : det noun adp det noun : verb verb det noun adv : det noun adp noun verb : adp det adv adj noun : noun adp adj noun conj : adv adv det noun noun : noun adp noun verb det : adp adj noun conj noun : adv verb verb det noun : verb verb det adj noun : adv adp noun verb verb : det noun adp noun adp : adv verb noun verb verb\n",
      "Topic #5:\n",
      "noun adp det noun noun : verb det noun adp det : det noun adp det noun : noun verb det noun adp : adp det noun noun verb : noun noun adp det noun : det noun noun adp det : adp det noun noun adp : det noun noun verb det : conj verb det noun adp : noun adp det noun conj : noun conj verb det noun : verb det noun adp noun : noun noun verb det noun : adv noun verb det noun : det noun noun verb adp : det noun noun verb verb : verb adp det noun noun : noun conj verb noun adp : det noun verb det noun : verb verb det noun adp : adp noun adp det noun : adp det noun noun conj : punct verb noun verb det : det noun noun verb adj : verb noun verb det noun : adp adp det noun adp : noun noun verb det adj : det noun conj verb noun : det noun conj verb det : conj verb noun adp det : adp det noun noun noun : adj noun verb det noun : conj noun verb det noun : noun verb det noun noun : adp det noun conj verb : det noun noun conj adv : noun noun verb adp noun : adv verb det noun adp : conj verb noun adp adj\n",
      "Topic #6:\n",
      "verb adv adp det noun : noun verb adv adp det : adv adp det noun conj : conj verb adv adp det : noun conj verb adv adp : adp det noun conj verb : adv adp det noun noun : adv adp det noun adp : adv noun verb adv adp : adj noun conj verb adv : adv verb adv adp det : verb verb adv adp det : noun verb verb adv adp : verb adv verb adv adp : det noun verb adv adp : adp det noun adp adj : det noun conj verb adv : noun verb adv verb adv : adj noun verb adv adp : adp adj noun verb adv : verb adv adp det adj : noun noun verb verb adv : noun noun verb adv adp : adp det noun verb adv : det noun conj adj adp : verb adj noun conj verb : verb noun verb adv adp : adv adp det noun adv : adp det noun conj adj : det noun conj verb verb : conj verb adv verb adv : conj det noun verb adv : noun conj verb adp noun : adj verb adv adp det : verb det adj noun conj : noun adv noun verb adv : noun verb adj noun conj : adp noun verb adv adp : det adj noun conj verb : verb adp det noun conj\n",
      "Topic #7:\n",
      "noun adp det adj noun : det noun adp det adj : adj noun adp det adj : adp det adj noun verb : adp det adj noun adp : adp det adj noun noun : verb noun adp det adj : noun det noun adp det : adp det noun adp det : verb det noun adp det : det adj noun adp det : adp noun adp det adj : adj noun det noun adp : det adj noun det noun : noun verb noun adp det : det adj noun noun verb : adv noun verb noun adp : noun verb det noun adp : noun noun adp det adj : det adj noun adp noun : verb adj noun adp det : verb adj adp det noun : det adj noun verb verb : det verb noun adp det : verb adp noun adp det : adv noun verb det noun : det adj noun verb adp : adp det adj noun conj : det adj noun verb det : adp det adj noun det : conj adp noun verb adv : verb verb verb det noun : det adj noun verb adv : adj noun verb det noun : conj noun adp det adj : noun verb verb verb det : noun verb adj noun adp : adj noun noun verb verb : verb det verb noun adp : adv det noun adp det\n",
      "Topic #8:\n",
      "verb noun adp det noun : noun verb noun adp det : noun adp det noun adp : verb verb noun adp det : noun verb verb noun adp : adp det noun adp noun : adj noun verb noun adp : noun adp det noun noun : det noun verb noun adp : conj verb noun adp det : det noun verb verb noun : conj noun verb noun adp : adv noun verb noun adp : noun adp det noun verb : adv verb noun adp det : det noun adp noun verb : noun conj verb noun adp : noun adp det noun conj : verb noun adp det adj : adp noun verb det noun : adp det noun verb adv : det noun conj verb noun : adp det noun verb noun : adv det noun verb verb : adp det noun adp adj : noun punct punct adj noun : noun noun verb noun adp : punct noun punct punct adj : noun adp noun verb det : det adj noun verb noun : noun noun conj verb noun : noun verb adp adj adj : det noun noun verb noun : verb det noun verb noun : adp adj noun verb noun : det noun noun adp noun : det noun noun noun verb : adp det noun conj verb : det noun noun conj verb : verb adp adj adj noun\n",
      "Topic #9:\n",
      "verb adv verb adp det : noun verb adv verb adp : adv verb adp det noun : adp noun verb adv verb : verb adp det noun noun : adv verb adp det adj : verb adv verb adp noun : verb adp det adj noun : verb adp det noun adp : verb adp noun verb adv : adj noun verb adv verb : adp det noun noun adp : noun adv verb adp det : conj noun verb adv verb : adv verb adp noun verb : det noun noun adp noun : noun noun adp noun verb : adp det noun noun conj : adp noun verb adp noun : det noun noun conj verb : noun verb adp noun verb : verb adp noun verb adp : adp det noun adp noun : adv adp noun verb adv : verb noun verb adv verb : conj verb noun verb noun : conj adv verb adp det : adp det noun det adj : adp adp noun verb adv : verb verb verb adp det : verb adp det noun det : det noun det adj noun : noun verb noun verb adv : adj adv verb adp det : noun noun conj verb noun : det noun adv verb adp : det noun noun adp det : noun verb verb verb adp : conj verb adv verb adp : noun conj verb noun verb\n",
      "\n",
      "Fitting LDA models with tf features, n_samples=2000 and n_features=1000...\n",
      "done in 2.322s.\n",
      "\n",
      "Topics in LDA model:\n",
      "Topic #0:\n",
      "verb adv adp det noun : noun conj verb adp det : noun verb adv adp det : noun verb adv verb adv : noun noun verb adv verb : conj verb adp det noun : adj noun conj verb adp : adj noun noun verb adv : verb adv adp adj noun : det adj noun conj verb : noun verb adv adv adp : adj noun conj adj noun : noun conj verb adp noun : adv adp det noun conj : noun verb adv adp adj : verb adv verb adv adp : det noun verb adv adp : adj noun verb adp det : noun verb adj conj adj : adv adp adj noun verb : adp noun verb adv verb : noun verb adv adv adj : conj det noun verb adj : adv adv adp det noun : adj conj adj conj adj : noun verb adp det noun : adj adj noun conj verb : adj conj adj adp det : verb adv adv adj adp : adp det noun conj verb : adp adj noun verb verb : adp noun noun verb adv : adj noun verb verb adp : adv noun verb adv adp : conj adj adp det noun : det adj noun verb adp : noun verb adv adp noun : adp det adj noun conj : det noun verb adj conj : adp det noun verb verb\n",
      "Topic #1:\n",
      "noun verb det adj noun : verb noun adp adj noun : noun verb det noun noun : det noun noun verb adv : noun verb adv conj verb : verb det noun noun verb : noun verb adv verb noun : verb det adj noun adj : verb det adj noun verb : det adj noun verb adp : verb det noun noun adp : verb det adj noun adv : conj verb det adj noun : verb adv conj verb adp : verb adv verb noun verb : adj noun verb verb adv : adj noun conj noun verb : conj verb noun adp adj : det adj noun adj verb : noun verb verb noun conj : adp noun conj noun verb : adj noun adv noun verb : adv det noun noun verb : verb noun conj verb noun : noun adp noun conj noun : verb noun verb det noun : det noun noun adp det : adp noun verb det noun : noun verb adp det noun : noun conj noun verb verb : adj noun verb adp noun : adj noun adj verb noun : noun adp det adj noun : adv det noun verb noun : noun noun adp det adj : adp adj noun conj noun : noun verb noun verb det : adv noun verb det noun : adp adj noun adv noun : noun conj noun verb adv\n",
      "Topic #2:\n",
      "verb adp det noun adp : noun verb adp det noun : verb verb adp det noun : adp det noun adp noun : noun verb verb verb adp : verb verb verb adp det : verb det noun adp noun : conj verb adp det noun : adj verb adp det noun : verb adp det noun verb : adp det noun verb verb : noun verb verb adp det : verb adp det noun adj : adp det noun verb adv : adv noun verb verb adp : det noun verb adv verb : adv verb adp det noun : noun adj verb adp det : verb conj verb adp det : noun verb verb adp noun : adj noun verb det noun : det noun adp noun adp : adp det noun det noun : det noun verb verb noun : noun adp noun conj verb : verb noun verb adp det : det noun adp adj noun : adp det noun adj noun : adj adj noun verb adp : adp noun adp adj noun : det noun adp noun verb : adj noun adj verb adp : det noun adp noun conj : verb verb adp noun verb : adp det noun adp adj : verb adp det noun noun : adj noun verb adp noun : adp noun verb adp det : noun verb conj verb adp : det noun adj noun verb\n",
      "Topic #3:\n",
      "noun adp adj adj noun : verb verb det adj noun : adj noun verb adv verb : verb adp adp det noun : verb adv verb adp det : adp det adj noun verb : noun verb verb det adj : noun verb adv verb adp : verb adp det noun noun : verb noun adp adj adj : noun verb adv verb adj : adv verb adp det noun : adj noun verb noun verb : verb verb adj adp noun : noun verb noun verb adv : adp det noun noun adp : noun verb adp adp det : verb adv adj noun verb : det noun noun adp noun : noun verb adv verb adv : noun verb verb adj adp : adp noun verb adj adp : verb verb verb det adj : verb adp det adj noun : noun verb adj adp noun : adj adp det adj noun : noun verb noun adp adj : noun verb verb adv verb : adp noun verb adv adj : conj noun verb adv verb : det adj noun verb noun : verb adv verb det noun : adp adj adj noun adp : noun verb adj adp adj : punct noun punct punct noun : det adj noun verb adv : noun verb verb verb det : noun verb noun adv adp : adj noun adp adj adj : adp noun verb verb adv\n",
      "Topic #4:\n",
      "det noun adp adj noun : adp det noun adp adj : verb adj noun conj verb : noun conj verb det noun : noun conj noun conj noun : noun verb adj noun conj : adv adp det noun adp : conj verb det noun adp : noun noun verb det noun : adj noun conj verb det : noun conj verb adj noun : det noun verb adj noun : adj noun conj verb adj : conj verb det noun noun : noun adv adp det noun : noun verb noun adv adp : noun verb det noun noun : noun adv adp adj noun : verb det noun adv conj : verb det noun noun verb : noun verb det noun verb : verb det noun noun adv : noun verb det noun adv : adp adj noun adp adj : verb noun adv adp adj : adp adj noun noun verb : det noun noun noun verb : verb adj noun verb noun : verb det noun adv adp : noun verb adv adj verb : det noun noun verb det : det noun adv conj verb : verb noun adv adp det : verb conj verb det noun : adp noun verb noun adp : noun verb adj noun adv : adv conj verb det noun : adj noun noun verb det : verb det noun adp noun : adv adp adj adj noun\n",
      "Topic #5:\n",
      "verb adp det adj noun : noun verb adp det adj : noun verb adv adj adp : noun verb adv verb noun : verb adv adj adp det : verb adv adj adp noun : noun verb verb adp adj : adp noun verb adv verb : verb verb adp adj noun : noun verb adv verb verb : noun verb adj noun verb : adp noun verb adj noun : adp noun verb adp noun : verb verb adp det adj : adv adj adp det noun : adp noun verb adp det : adp det adj noun adp : adj noun adp noun verb : noun adp noun verb adp : adv adj adp noun verb : det noun verb adv adj : conj det noun verb adv : noun verb verb adp noun : noun verb adp noun verb : noun verb adv verb adp : adv verb adp noun verb : noun adp adj det noun : adp det noun noun verb : det adj noun adj verb : det noun adp noun verb : conj noun verb adv verb : adp det adj noun adj : verb verb adv adj adp : verb adv verb adp noun : verb adj noun verb verb : adj noun verb adv adj : adp adp noun verb adv : noun verb verb adp det : noun verb verb adv adj : verb adv verb verb noun\n",
      "Topic #6:\n",
      "noun verb verb det noun : adp adj noun conj verb : noun verb adp adj noun : adp noun verb verb noun : noun verb noun verb verb : adp noun verb verb det : noun adp adj noun conj : adv adv adp noun verb : verb verb det noun adp : noun verb verb noun adp : verb verb det noun noun : adj noun conj verb noun : verb adp adj noun conj : noun verb adp noun verb : noun adp noun verb verb : adv adp noun verb verb : noun verb verb noun verb : det noun adp adj noun : adp noun verb noun verb : verb verb det noun verb : det noun verb noun verb : verb det noun adp adj : noun verb verb adj noun : verb noun verb adp noun : adp noun verb verb adj : verb verb noun adp noun : adj noun conj verb adv : noun verb adv adp noun : noun verb verb noun adv : noun verb adv adv verb : adp det noun verb noun : verb noun adv adp noun : verb noun adp noun verb : verb noun verb verb det : noun verb verb verb noun : verb noun adp adj noun : verb noun verb verb noun : adp adj noun adp noun : noun adv adv adp noun : verb adp noun verb verb\n",
      "Topic #7:\n",
      "verb det adj noun adp : noun verb det adj noun : adj noun adp det noun : adj noun adp adj noun : noun verb det noun adp : det adj noun adp noun : det noun adp adj noun : verb det noun adp adj : det adj noun adp det : noun adp adj noun adp : det adj noun adp adj : adv verb det adj noun : noun verb adj noun adp : noun adp adj noun verb : adp noun verb det adj : adj noun adp noun verb : det noun verb det noun : adj adj noun adp det : verb det adj noun noun : verb adj noun adp noun : det noun verb det adj : adp det noun verb det : verb adj noun adp adj : noun verb verb noun adp : adp adj noun adp noun : adp adj noun adp det : noun adp det noun adv : noun adp det noun noun : noun adv verb det noun : adj noun verb det adj : verb verb det adj noun : adj noun adp noun adp : adj noun adp noun conj : det noun adv verb det : adp noun adp adj noun : verb verb noun adp det : noun adp noun adp adj : adv noun verb adj noun : adv adj adv noun verb : noun noun verb det adj\n",
      "Topic #8:\n",
      "noun verb adp det noun : adp det noun conj verb : verb adp det noun conj : det adj noun noun verb : det noun verb adp det : adj noun noun verb verb : det noun noun verb verb : noun verb verb adp det : verb verb adp det noun : verb adp det noun noun : noun verb verb adp noun : adp det adj noun noun : adp det noun noun verb : det noun conj verb adp : noun noun verb verb noun : noun adp det noun conj : adp det noun verb adp : adv noun verb adp det : noun noun verb adp det : verb adv adp det noun : noun conj verb det noun : det noun conj verb noun : det noun noun verb adp : noun noun verb verb adp : adp noun verb verb adp : det noun noun conj verb : det noun conj verb det : verb adp noun conj verb : adv adp det noun noun : noun conj verb adv adp : noun conj verb noun adp : det noun verb verb adp : adp det noun conj noun : noun noun verb verb adv : verb adp det noun adv : adp noun verb adp det : conj verb adv adp det : adp det noun noun conj : noun verb verb verb adj : verb noun noun verb verb\n",
      "Topic #9:\n",
      "det noun adp det noun : adp det noun adp det : noun adp det adj noun : noun adp det noun adp : noun adp det noun noun : verb det noun adp det : verb noun adp det noun : adj noun adp det noun : det noun adp det adj : det adj noun adp det : det noun conj det noun : noun adp det noun verb : adp det adj noun adp : noun verb noun adp det : adp det noun noun verb : noun verb det noun adp : adp noun adp det noun : adj noun adp det adj : verb adp det noun adp : verb adj noun adp det : adp det noun adp noun : verb verb det noun adp : adp det noun conj det : noun conj det noun verb : noun conj det noun noun : noun adp det noun conj : adp det adj noun verb : noun det noun adp det : verb adp noun adp det : verb noun adp det adj : noun conj noun adp det : adj adp det noun adp : conj det noun noun verb : noun adp noun adp det : conj det noun conj det : noun noun adp det noun : adp noun adp det adj : adp det noun noun conj : noun verb adj noun adp : adv det noun adp det\n",
      "\n"
     ]
    },
    {
     "name": "stderr",
     "output_type": "stream",
     "text": [
      "/Users/ingrid/anaconda/envs/py27/lib/python2.7/site-packages/ipykernel/__main__.py:44: UnicodeWarning: Unicode equal comparison failed to convert both arguments to Unicode - interpreting them as being unequal\n"
     ]
    }
   ],
   "source": [
    "print(\"Loading dataset...\")\n",
    "t0 = time()\n",
    "\n",
    "#talking_auth,partofspeech_auth,partofspeech_sentences, parsed_sentences,talking,partofspeech_talking\n",
    "\n",
    "\n",
    "data_samples = grammar_clauses#all_paragraphs #chpt1_paragraphs#unspoken_parsed_1#parsed_sentences_str#chapter_content[3]#all_paragraphs#sentences #all_paragraphs #chapter_segs\n",
    "print(\"done in %0.3fs.\" % (time() - t0))\n",
    "\n",
    "# Use tf-idf features for NMF.\n",
    "print(\"Extracting tf-idf features for NMF...\")\n",
    "tfidf_vectorizer = TfidfVectorizer(max_df=0.95, min_df=2, #max_features=n_features,\n",
    "                                   tokenizer=tokenizeText, \n",
    "                                   ngram_range=(5, 5),)\n",
    "t0 = time()\n",
    "tfidf = tfidf_vectorizer.fit_transform(data_samples)\n",
    "print(\"done in %0.3fs.\" % (time() - t0))\n",
    "\n",
    "# Use tf (raw term count) features for LDA.\n",
    "print(\"Extracting tf features for LDA...\")\n",
    "tf_vectorizer = CountVectorizer(max_df=0.95, min_df=4, max_features=n_features,\n",
    "                                tokenizer=tokenizeText, \n",
    "                                ngram_range=(5, 5),)\n",
    "t0 = time()\n",
    "tf = tf_vectorizer.fit_transform(data_samples)\n",
    "print(\"done in %0.3fs.\" % (time() - t0))\n",
    "\n",
    "# Fit the NMF model\n",
    "print(\"Fitting the NMF model with tf-idf features,\"\n",
    "      \"n_samples=%d and n_features=%d...\"\n",
    "      % (n_samples, n_features))\n",
    "t0 = time()\n",
    "nmf = NMF(n_components=n_topics, random_state=1, alpha=.1, l1_ratio=.5).fit(tfidf)\n",
    "# exit()\n",
    "print(\"done in %0.3fs.\" % (time() - t0))\n",
    "\n",
    "print(\"\\nTopics in NMF model:\")\n",
    "tfidf_feature_names = tfidf_vectorizer.get_feature_names()\n",
    "print_top_words(nmf, tfidf_feature_names, n_top_words)\n",
    "\n",
    "NMF_ngrams = store_top_ngrams(nmf, tfidf_feature_names, n_top_words)\n",
    "print(\"Fitting LDA models with tf features, n_samples=%d and n_features=%d...\"\n",
    "      % (n_samples, n_features))\n",
    "lda = LatentDirichletAllocation(n_topics=n_topics, max_iter=5,\n",
    "                                learning_method='online', learning_offset=50.,\n",
    "                                random_state=0)\n",
    "t0 = time()\n",
    "lda.fit(tf)\n",
    "print(\"done in %0.3fs.\" % (time() - t0))\n",
    "\n",
    "print(\"\\nTopics in LDA model:\")\n",
    "tf_feature_names = tf_vectorizer.get_feature_names()\n",
    "print_top_words(lda, tf_feature_names, n_top_words)\n",
    "LDA_ngrams = store_top_ngrams(nmf, tfidf_feature_names, n_top_words)\n"
   ]
  },
  {
   "cell_type": "code",
   "execution_count": null,
   "metadata": {
    "collapsed": true
   },
   "outputs": [],
   "source": [
    "from __future__ import print_function\n",
    "from time import time\n",
    "from sklearn.feature_extraction.text import TfidfVectorizer, CountVectorizer\n",
    "from sklearn.decomposition import NMF, LatentDirichletAllocation\n",
    "from sklearn.datasets import fetch_20newsgroups\n",
    "\n",
    "n_topics = 10\n",
    "n_top_words = 40\n",
    "\n",
    "def store_top_ngrams(model, feature_names, n_top_words):\n",
    "    ngram_topic_lists = []\n",
    "    for topic_idx, topic in enumerate(model.components_):\n",
    "        topic_words = [feature_names[i] for i in topic.argsort()[:-n_top_words - 1:-1]]\n",
    "        ngram_topic_lists.append(topic_words)\n",
    "    return ngram_topic_lists\n",
    "\n",
    "\n",
    "#talking_auth,partofspeech_auth,partofspeech_sentences, parsed_sentences,talking,partofspeech_talking\n",
    "\n",
    "\n",
    "data_samples = chpt1_paragraphs#unspoken_parsed_1#parsed_sentences_str#chapter_content[3]#all_paragraphs#sentences #all_paragraphs #chapter_segs"
   ]
  },
  {
   "cell_type": "code",
   "execution_count": 275,
   "metadata": {
    "collapsed": false
   },
   "outputs": [],
   "source": [
    "def topics(chapter, ngram_min=1, ngram_max=5,n_topics=10, n_top_words=20, tfidf=True):\n",
    "    \"\"\"Input: ngram_min - min gram val, ngram_max - max gram value, \n",
    "    chapter - the paragraph list from given chapter, \n",
    "    n_topics - the number of topics we want to search for in the text\n",
    "    n_top_words - the number of words we want to allocate to each chapter\n",
    "    tfidf options - do we want to model using NMF(using tfidf) or LDA(using tf)\n",
    "    Output: ngram word lists\n",
    "    \n",
    "    *** Dependencies include tokenizeText!!\"\"\"\n",
    "    if tfidf == True:\n",
    "        # Use tf-idf features for NMF.\n",
    "        tfidf_vectorizer = TfidfVectorizer(max_df=0.95, min_df=2, #max_features=n_features,\n",
    "                                           tokenizer=tokenizeText, \n",
    "                                           ngram_range=(ngram_min, ngram_max),)\n",
    "\n",
    "        tfidf = tfidf_vectorizer.fit_transform(data_samples)\n",
    "        \n",
    "        # Fit the NMF model\n",
    "        nmf = NMF(n_components=n_topics, random_state=1, alpha=.1, l1_ratio=.5).fit(tfidf)\n",
    "\n",
    "        tfidf_feature_names = tfidf_vectorizer.get_feature_names()\n",
    "        ngrams = store_top_ngrams(nmf, tfidf_feature_names, n_top_words)\n",
    "\n",
    "    else:\n",
    "        # Use tf (raw term count) features for LDA.\n",
    "        tf_vectorizer = CountVectorizer(max_df=0.95, min_df=4, max_features=n_features,\n",
    "                                        tokenizer=tokenizeText, \n",
    "                                        ngram_range=(ngram_min, ngram_max),)\n",
    "        tf = tf_vectorizer.fit_transform(data_samples)\n",
    "\n",
    "        # Fit Latent Dirichlet Allocation\n",
    "        lda = LatentDirichletAllocation(n_topics=n_topics, max_iter=5,\n",
    "                                        learning_method='online', learning_offset=50.,\n",
    "                                        random_state=0)\n",
    "        lda.fit(tf)\n",
    "        \n",
    "        tf_feature_names = tf_vectorizer.get_feature_names()\n",
    "        ngrams = store_top_ngrams(lda, tf_feature_names, n_top_words)\n",
    "    return ngrams\n"
   ]
  },
  {
   "cell_type": "code",
   "execution_count": 290,
   "metadata": {
    "collapsed": true
   },
   "outputs": [],
   "source": [
    "ngrams = topics(chpt1_paragraphs)"
   ]
  },
  {
   "cell_type": "code",
   "execution_count": 267,
   "metadata": {
    "collapsed": false
   },
   "outputs": [],
   "source": [
    "\n",
    "from collections import defaultdict\n",
    "import operator\n",
    "\n",
    "def paragraph_topic(topic_set,chapter):\n",
    "    \"\"\"\n",
    "        Input: list of words or ngrams in topic, list of text in chapter(split by paragraph)\n",
    "        Output: indices of paragraphs that are now 'labeled with this topic\n",
    "        Output: dictionary of term counts in each paragraph (to rank topics in each)\n",
    "    \"\"\"    \n",
    "    d = defaultdict(int)\n",
    "    for i,paragraph in enumerate(chapter):\n",
    "        for topic in topic_set:\n",
    "            if paragraph.find(topic) != -1:\n",
    "                d[i] += 1 #* float(1/len(paragraph))\n",
    "    return d\n",
    "\n",
    "\n",
    "def label_paragraphs(d,count):\n",
    "    \"\"\"Input: \n",
    "        d: dictionary of topic count, \n",
    "        thresh: instead of using a count we can pick how many paragraphs rep topics. \n",
    "        count : number of paragraphs we'd like to label\n",
    "       Output:\n",
    "        list of paragraph indices\n",
    "    \"\"\"\n",
    "    sorted_d = sorted(d.items(), key=operator.itemgetter(1))\n",
    "    top = sorted_d[::-1][0:count]\n",
    "    indices = [ind[0] for ind in top]\n",
    "    return indices\n",
    "\n",
    "def topic_lists(topics,chapter,count):\n",
    "    \"\"\"Input: \n",
    "        topics: list of topic lists\n",
    "        chapter: chapter we are looking at\n",
    "        topic_num: number of topics we want to label\n",
    "        count: number of paragraphs we want to label with topic\n",
    "    Output: topic_pgrf_indice - list of paragraphs for each topic\"\"\"\n",
    "    topic_pgrf_indice = []\n",
    "    for topic in topics: \n",
    "        d = paragraph_topic(topic,chapter)\n",
    "        pgrf_set = label_paragraphs(d,count)\n",
    "        topic_pgrf_indice.append(pgrf_set)\n",
    "    return topic_pgrf_indice\n",
    "\n"
   ]
  },
  {
   "cell_type": "code",
   "execution_count": 284,
   "metadata": {
    "collapsed": false
   },
   "outputs": [],
   "source": [
    "paragraph_labels = topic_lists(NMF_ngrams,chapter_content[1],5)"
   ]
  },
  {
   "cell_type": "code",
   "execution_count": 342,
   "metadata": {
    "collapsed": false
   },
   "outputs": [
    {
     "data": {
      "text/plain": [
       "[[13, 9, 22, 6, 28],\n",
       " [52, 42, 10, 65, 55],\n",
       " [51, 70, 39, 6, 68],\n",
       " [42, 17, 16, 70, 52],\n",
       " [30, 28, 11, 22, 51],\n",
       " [42, 34, 71, 70, 43],\n",
       " [37, 39, 30, 28, 6],\n",
       " [16, 6, 52, 42, 13],\n",
       " [17, 42, 16, 10, 65],\n",
       " [7, 5, 10, 6, 52]]"
      ]
     },
     "execution_count": 342,
     "metadata": {},
     "output_type": "execute_result"
    }
   ],
   "source": [
    "paragraph_labels"
   ]
  },
  {
   "cell_type": "markdown",
   "metadata": {},
   "source": [
    "## KMEANS CLUSTERING"
   ]
  },
  {
   "cell_type": "code",
   "execution_count": 411,
   "metadata": {
    "collapsed": false
   },
   "outputs": [
    {
     "name": "stdout",
     "output_type": "stream",
     "text": [
      "Top terms per cluster:\n",
      "Cluster 0:\n",
      " thought\n",
      " great\n",
      " come\n",
      " day\n",
      "Cluster 1:\n",
      " heart\n",
      " luck\n",
      " knew\n",
      " morrow\n",
      "Cluster 2:\n",
      " room\n",
      " oz\n",
      " throne\n",
      " discovery\n",
      "Cluster 3:\n",
      " did\n",
      " met\n",
      " wish\n",
      " winged\n",
      "Cluster 4:\n",
      " eyes\n",
      " green\n",
      " screen\n",
      " make\n"
     ]
    }
   ],
   "source": [
    "from sklearn.feature_extraction.text import TfidfVectorizer\n",
    "from sklearn.cluster import KMeans\n",
    "from sklearn.metrics import adjusted_rand_score\n",
    "\n",
    "true_k = 5\n",
    "TfidfVectorizer(max_df=0.95, min_df=2, #max_features=n_features,\n",
    "                                   tokenizer=tokenizeText, \n",
    "                                   ngram_range=(1, 3))\n",
    "X = vectorizer.fit_transform(chpt15_2)\n",
    "model = KMeans(n_clusters=true_k, init='k-means++', max_iter=100, n_init=1)\n",
    "model.fit(X)\n",
    "print(\"Top terms per cluster:\")\n",
    "order_centroids = model.cluster_centers_.argsort()[:, ::-1]\n",
    "terms = vectorizer.get_feature_names()\n",
    "for i in range(true_k):\n",
    "    print( \"Cluster %d:\" % i)\n",
    "    for ind in order_centroids[i, :4]:\n",
    "        print( ' %s' % terms[ind])\n",
    "    print"
   ]
  },
  {
   "cell_type": "markdown",
   "metadata": {},
   "source": [
    "## SENTIMENT"
   ]
  },
  {
   "cell_type": "code",
   "execution_count": 102,
   "metadata": {
    "collapsed": false
   },
   "outputs": [],
   "source": [
    "import pandas as pd\n",
    "vdf = pd.DataFrame(parsed_sentences)\n",
    "pvdf = pd.DataFrame(paragraphs)"
   ]
  },
  {
   "cell_type": "code",
   "execution_count": 131,
   "metadata": {
    "collapsed": false
   },
   "outputs": [],
   "source": [
    "from vaderSentiment.vaderSentiment import sentiment as vaderSentiment\n",
    "vdf[\"vader\"] = vdf[0].apply(lambda sentence: vaderSentiment(sentence))\n",
    "pvdf[\"vader\"] = pvdf[0].apply(lambda paragraph: vaderSentiment(paragraph))\n"
   ]
  },
  {
   "cell_type": "code",
   "execution_count": 132,
   "metadata": {
    "collapsed": true
   },
   "outputs": [],
   "source": [
    "from textblob import TextBlob\n",
    "vdf[\"txtblob\"] = vdf[0].apply(lambda sentence: TextBlob(sentence).sentiment)\n",
    "vdf[\"textblob_noun\"] = vdf[0].apply(lambda sentence: TextBlob(sentence).noun_phrases) "
   ]
  },
  {
   "cell_type": "code",
   "execution_count": 136,
   "metadata": {
    "collapsed": false
   },
   "outputs": [],
   "source": [
    "# vdf[vdf[0].apply(lambda line: line.find(\" 's\")) != -1 ]\n",
    "# vdf[0] = vdf[0].apply(lambda line: line.replace(\" 's\",\"'s\"))\n",
    "y_polarity = vdf.txtblob.apply(lambda tpl: tpl[1])\n",
    "# vdf"
   ]
  },
  {
   "cell_type": "code",
   "execution_count": 139,
   "metadata": {
    "collapsed": false
   },
   "outputs": [
    {
     "data": {
      "text/plain": [
       "[<matplotlib.lines.Line2D at 0x1258d2110>]"
      ]
     },
     "execution_count": 139,
     "metadata": {},
     "output_type": "execute_result"
    },
    {
     "data": {
      "image/png": "[encoded data removed]",
      "text/plain": [
       "<matplotlib.figure.Figure at 0x12606ef50>"
      ]
     },
     "metadata": {},
     "output_type": "display_data"
    }
   ],
   "source": [
    "plt.plot(y_polarity.index,y_polarity)"
   ]
  },
  {
   "cell_type": "code",
   "execution_count": 105,
   "metadata": {
    "collapsed": false
   },
   "outputs": [
    {
     "data": {
      "text/plain": [
       "(1317, 2)"
      ]
     },
     "execution_count": 105,
     "metadata": {},
     "output_type": "execute_result"
    }
   ],
   "source": [
    "vdf.shape"
   ]
  },
  {
   "cell_type": "code",
   "execution_count": 64,
   "metadata": {
    "collapsed": false,
    "scrolled": true
   },
   "outputs": [
    {
     "data": {
      "text/plain": [
       "{'compound': 0.6249, 'neg': 0.0, 'neu': 0.854, 'pos': 0.146}"
      ]
     },
     "execution_count": 64,
     "metadata": {},
     "output_type": "execute_result"
    }
   ],
   "source": [
    "vdf.vader[0]"
   ]
  },
  {
   "cell_type": "code",
   "execution_count": 96,
   "metadata": {
    "collapsed": false
   },
   "outputs": [
    {
     "data": {
      "text/html": [
       "<div>\n",
       "<table border=\"1\" class=\"dataframe\">\n",
       "  <thead>\n",
       "    <tr style=\"text-align: right;\">\n",
       "      <th></th>\n",
       "      <th>0</th>\n",
       "      <th>vader</th>\n",
       "    </tr>\n",
       "  </thead>\n",
       "  <tbody>\n",
       "    <tr>\n",
       "      <th>161</th>\n",
       "      <td>Because you wear silver shoes and have killed ...</td>\n",
       "      <td>{u'neg': 0.565, u'neu': 0.435, u'pos': 0.0, u'...</td>\n",
       "    </tr>\n",
       "    <tr>\n",
       "      <th>353</th>\n",
       "      <td>and as he walked along he wept several tears o...</td>\n",
       "      <td>{u'neg': 0.552, u'neu': 0.448, u'pos': 0.0, u'...</td>\n",
       "    </tr>\n",
       "    <tr>\n",
       "      <th>413</th>\n",
       "      <td>Those creatures frightened me so badly that my...</td>\n",
       "      <td>{u'neg': 0.508, u'neu': 0.492, u'pos': 0.0, u'...</td>\n",
       "    </tr>\n",
       "    <tr>\n",
       "      <th>661</th>\n",
       "      <td>and even if I wanted to , how could I kill the...</td>\n",
       "      <td>{u'neg': 0.57, u'neu': 0.43, u'pos': 0.0, u'co...</td>\n",
       "    </tr>\n",
       "    <tr>\n",
       "      <th>675</th>\n",
       "      <td>But until she is dead I will not grant your wish</td>\n",
       "      <td>{u'neg': 0.553, u'neu': 0.447, u'pos': 0.0, u'...</td>\n",
       "    </tr>\n",
       "  </tbody>\n",
       "</table>\n",
       "</div>"
      ],
      "text/plain": [
       "                                                     0  \\\n",
       "161  Because you wear silver shoes and have killed ...   \n",
       "353  and as he walked along he wept several tears o...   \n",
       "413  Those creatures frightened me so badly that my...   \n",
       "661  and even if I wanted to , how could I kill the...   \n",
       "675   But until she is dead I will not grant your wish   \n",
       "\n",
       "                                                 vader  \n",
       "161  {u'neg': 0.565, u'neu': 0.435, u'pos': 0.0, u'...  \n",
       "353  {u'neg': 0.552, u'neu': 0.448, u'pos': 0.0, u'...  \n",
       "413  {u'neg': 0.508, u'neu': 0.492, u'pos': 0.0, u'...  \n",
       "661  {u'neg': 0.57, u'neu': 0.43, u'pos': 0.0, u'co...  \n",
       "675  {u'neg': 0.553, u'neu': 0.447, u'pos': 0.0, u'...  "
      ]
     },
     "execution_count": 96,
     "metadata": {},
     "output_type": "execute_result"
    }
   ],
   "source": [
    "## sentiment and which words are being modified... if they are proper nouns or not..\n",
    "\n",
    "\n",
    "# how about tracking words that are + or - and then keep the highly repeated ones\n",
    "vdf.vader[16].items()[0][1]\n",
    "vdf[vdf.vader.apply(lambda line: line.items()[0][1]) > 0.5].head()\n",
    "# vdf[vdf.vader.apply(lambda line: line.items()[2][1]) > 0.3]"
   ]
  },
  {
   "cell_type": "code",
   "execution_count": 110,
   "metadata": {
    "collapsed": false
   },
   "outputs": [],
   "source": [
    "y_neg = pvdf.vader.apply(lambda line: line.items()[0][1])\n",
    "y_pos = pvdf.vader.apply(lambda line: line.items()[2][1])\n",
    "y_compound = pvdf.vader.apply(lambda line: line.items()[3][1])\n",
    "y_neutral = pvdf.vader.apply(lambda line: line.items()[1][1])\n",
    "x = pvdf.index\n"
   ]
  },
  {
   "cell_type": "code",
   "execution_count": 113,
   "metadata": {
    "collapsed": false
   },
   "outputs": [
    {
     "data": {
      "text/plain": [
       "[<matplotlib.lines.Line2D at 0x1160b5f50>]"
      ]
     },
     "execution_count": 113,
     "metadata": {},
     "output_type": "execute_result"
    },
    {
     "data": {
      "image/png": "[encoded data removed]",
      "text/plain": [
       "<matplotlib.figure.Figure at 0x1164d4910>"
      ]
     },
     "metadata": {},
     "output_type": "display_data"
    }
   ],
   "source": [
    "%matplotlib inline\n",
    "import matplotlib.pyplot as plt\n",
    "plt.plot(x,y_neutral)"
   ]
  },
  {
   "cell_type": "code",
   "execution_count": 107,
   "metadata": {
    "collapsed": false
   },
   "outputs": [
    {
     "data": {
      "text/plain": [
       "[<matplotlib.lines.Line2D at 0x11526a350>]"
      ]
     },
     "execution_count": 107,
     "metadata": {},
     "output_type": "execute_result"
    },
    {
     "data": {
      "image/png": "[encoded data removed]",
      "text/plain": [
       "<matplotlib.figure.Figure at 0x114e12990>"
      ]
     },
     "metadata": {},
     "output_type": "display_data"
    }
   ],
   "source": [
    "%matplotlib inline\n",
    "import matplotlib.pyplot as plt\n",
    "plt.plot(x,y_pos)"
   ]
  },
  {
   "cell_type": "code",
   "execution_count": 77,
   "metadata": {
    "collapsed": false
   },
   "outputs": [
    {
     "data": {
      "text/plain": [
       "u\"When Dorothy , who was an orphan , first came to her , Aunt Em had been so startled by the child 's laughter that she would scream and press her hand upon her heart whenever Dorothy 's merry voice reached her ears\""
      ]
     },
     "execution_count": 77,
     "metadata": {},
     "output_type": "execute_result"
    }
   ],
   "source": [
    "vdf[0][16]"
   ]
  },
  {
   "cell_type": "code",
   "execution_count": 59,
   "metadata": {
    "collapsed": false
   },
   "outputs": [
    {
     "name": "stdout",
     "output_type": "stream",
     "text": [
      "Apple ORG\n",
      "'s (not an entity)\n",
      "stocks (not an entity)\n",
      "dropped (not an entity)\n",
      "dramatically (not an entity)\n",
      "after (not an entity)\n",
      "the (not an entity)\n",
      "death (not an entity)\n",
      "of (not an entity)\n",
      "Steve PERSON\n",
      "Jobs PERSON\n",
      "in (not an entity)\n",
      "October DATE\n",
      ". (not an entity)\n",
      "-------------- entities only ---------------\n",
      "349 ORG Apple\n",
      "346 PERSON Steve Jobs\n",
      "356 DATE October\n"
     ]
    }
   ],
   "source": [
    "# Let's look at the named entities of this example:\n",
    "example = u\"Apple's stocks dropped dramatically after the death of Steve Jobs in October.\"\n",
    "parsedEx = parser(example)\n",
    "for token in parsedEx:\n",
    "    print(token.orth_, token.ent_type_ if token.ent_type_ != \"\" else \"(not an entity)\")\n",
    "\n",
    "print(\"-------------- entities only ---------------\")\n",
    "# if you just want the entities and nothing else, you can do access the parsed examples \"ents\" property like this:\n",
    "ents = list(parsedEx.ents)\n",
    "for entity in ents:\n",
    "    print(entity.label, entity.label_, ' '.join(t.orth_ for t in entity))"
   ]
  },
  {
   "cell_type": "code",
   "execution_count": null,
   "metadata": {
    "collapsed": true
   },
   "outputs": [],
   "source": []
  }
 ],
 "metadata": {
  "kernelspec": {
   "display_name": "Python 2",
   "language": "python",
   "name": "python2"
  },
  "language_info": {
   "codemirror_mode": {
    "name": "ipython",
    "version": 2
   },
   "file_extension": ".py",
   "mimetype": "text/x-python",
   "name": "python",
   "nbconvert_exporter": "python",
   "pygments_lexer": "ipython2",
   "version": "2.7.11"
  }
 },
 "nbformat": 4,
 "nbformat_minor": 0
}
